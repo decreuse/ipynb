{
 "cells": [
  {
   "cell_type": "markdown",
   "metadata": {},
   "source": [
    "### Simulation Vélib accélérée avec numba et jit\n",
    "\n",
    "- Pas de limite de places dans chaque station\n",
    "- Vélos mis au hasard au départ"
   ]
  },
  {
   "cell_type": "code",
   "execution_count": 14,
   "metadata": {},
   "outputs": [
    {
     "name": "stdout",
     "output_type": "stream",
     "text": [
      "Simulation avec 1 seul vélo\n",
      "\n",
      "Pourcentage du temps où les stations sont vides\n",
      "\n",
      "Station 0 : 0.833\n",
      "Intervalle de confiance : [0.831, 0.835]\n",
      "-------------\n",
      "\n",
      "Station 1 : 0.840\n",
      "Intervalle de confiance : [0.838, 0.842]\n",
      "-------------\n",
      "\n",
      "Station 2 : 0.859\n",
      "Intervalle de confiance : [0.858, 0.861]\n",
      "-------------\n",
      "\n",
      "Station 3 : 0.839\n",
      "Intervalle de confiance : [0.837, 0.841]\n",
      "-------------\n",
      "\n",
      "Station 4 : 0.852\n",
      "Intervalle de confiance : [0.850, 0.854]\n",
      "-------------\n",
      "\n",
      "Solution des équations de trafic, méthode algébrique\n",
      "\n",
      "[0.83217043 0.83885467 0.85801393 0.83851615 0.85011589]\n",
      "--------------------\n",
      " Simulation avec 100 vélos répartis au hasard\n",
      "Pourcentage du temps où les stations sont vides\n",
      "\n",
      "Station 0 : 0.010\n",
      "Intervalle de confiance : [0.008, 0.012]\n",
      "-------------\n",
      "\n",
      "Station 1 : 0.046\n",
      "Intervalle de confiance : [0.042, 0.049]\n",
      "-------------\n",
      "\n",
      "Station 2 : 0.160\n",
      "Intervalle de confiance : [0.157, 0.163]\n",
      "-------------\n",
      "\n",
      "Station 3 : 0.044\n",
      "Intervalle de confiance : [0.041, 0.048]\n",
      "-------------\n",
      "\n",
      "Station 4 : 0.115\n",
      "Intervalle de confiance : [0.111, 0.119]\n",
      "-------------\n",
      "\n"
     ]
    }
   ],
   "source": [
    "from numpy import *\n",
    "import numpy as np\n",
    "from numba import *\n",
    "\n",
    "R=np.array([[0,0.22,0.32,0.2,0.26],[0.17,0.,0.34,0.21,0.28],[0.19,0.26,0.,0.24,0.31],[0.17,0.22,0.33,0.,0.28],[0.18,0.24,0.35,0.23,0.]])\n",
    "T=np.array([[0,3.,5.,7.,7.],[2.,0,2.,5.,5.],[4.,2.,0,3.,3.],[8.,6.,4.,0,2.],[7.,7.,5.,2.,0]])\n",
    "lambda_=np.array([2.8,3.7,5.5,3.5,4.6])/60.\n",
    "\n",
    "@jit\n",
    "def pickState(p):\n",
    "    r=np.cumsum(p)\n",
    "    r =r/np.sum(p)\n",
    "    u=np.random.rand()\n",
    "    w=0\n",
    "    while(u>r[w]):\n",
    "        w+=1\n",
    "    return w\n",
    "\n",
    "@jit\n",
    "def transition(etat):\n",
    "    Tpos=np.zeros(25)\n",
    "    for i in np.arange(5):\n",
    "        for j in np.arange(5):\n",
    "            if (i==j):\n",
    "                if (etat[5*i+j]>0):\n",
    "                    Tpos[6*i]=lambda_[i]\n",
    "            else:\n",
    "                Tpos[5*i+j]=etat[5*i+j]*1./T[i,j]\n",
    "    return Tpos\n",
    "\n",
    "@jit\n",
    "def saut(etat):\n",
    "    t=transition(etat)\n",
    "    tau=np.sum(t)\n",
    "    t=t/tau\n",
    "    x=pickState(t)\n",
    "    #x=np.random.choice(len(t),p=t)\n",
    "    depart=x//5\n",
    "    arrivee=x%5\n",
    "    if (depart==arrivee):\n",
    "        #depart de la station depart\n",
    "        # il faut choisir la station destination\n",
    "        #z=np.random.choice(5,p=R[depart,:])\n",
    "        z=pickState(R[depart,:])\n",
    "        caseADiminuer = 6*depart\n",
    "        caseAAugmenter =5*depart+z\n",
    "        #print(\"Départ de \"+str(depart)+\" vers \"+str(z)+\"\\n\")\n",
    "    else:\n",
    "        # un vélo arrive \n",
    "        caseADiminuer=x\n",
    "        caseAAugmenter= 6*arrivee\n",
    "        #print(\"Arrivée en \"+ str(arrivee)+ \" en provenance de \"+str(depart)+\"\\n\")\n",
    "    #print(etat.reshape(5,5))\n",
    "    return -log(np.random.rand())/tau,caseADiminuer,caseAAugmenter\n",
    "\n",
    "@jit\n",
    "def trajectoire(etat,horizon):\n",
    "    Timer=0.\n",
    "    Tvide=np.zeros(5)\n",
    "    while(Timer <horizon):\n",
    "        t,x,y=saut(etat)\n",
    "        Timer +=t\n",
    "        for i in np.arange(5):\n",
    "            if etat[6*i]==0:\n",
    "                Tvide[i]+=t\n",
    "        etat[x]-=1\n",
    "        etat[y]+=1\n",
    "    return Tvide/horizon\n",
    "\n",
    "@jit\n",
    "def simulation(Einitial,Nbiter,Horizon):\n",
    "    #print(\"Durée \",Horizon)\n",
    "    #print(\"Nombre d'itérations \",Nbiter)\n",
    "    stationsVides=np.empty(5)\n",
    "    for k in np.arange(Nbiter):\n",
    "        stationsVides=np.vstack((stationsVides,trajectoire(Einitial,Horizon)))\n",
    "    print(\"Pourcentage du temps où les stations sont vides\\n\")\n",
    "    for i in np.arange(5):\n",
    "        m=np.sum(stationsVides[:,i])/Nbiter\n",
    "        print('Station '+str(i)+' : {:.3f}'.format(m))\n",
    "        v=1.96*np.std(stationsVides[:,i])/np.sqrt(Nbiter)\n",
    "        print('Intervalle de confiance : [{:.3f}'.format(m-v)+', {:.3f}'.format(m+v)+']')\n",
    "        print(\"-------------\\n\")\n",
    "\n",
    "Einitial=np.zeros(25)\n",
    "Einitial[0]=1\n",
    "print(\"Simulation avec 1 seul vélo\\n\")\n",
    "simulation(Einitial,1000,10000.)\n",
    "\n",
    "# Test de l'accord des valeurs avec Einitial=[1,0,0,...]\n",
    "alpha=np.zeros((25,25))\n",
    "for i in np.arange(5):\n",
    "    for j in np.arange(5):\n",
    "        alpha[6*i,5*i+j]=lambda_[i]*R[i,j]\n",
    "        alpha[6*i,6*i]=-lambda_[i]\n",
    "for i in np.arange(5):\n",
    "    for j in np.arange(5):\n",
    "        if (i!=j):\n",
    "            alpha[5*i+j,5*i+j]=-1./T[i,j]\n",
    "            alpha[5*i+j,6*j]=1./T[i,j]\n",
    "        \n",
    "alpha=np.transpose(alpha)\n",
    "alpha=np.vstack((alpha[0:24,:],np.ones(25)))\n",
    "beta=np.zeros(25)\n",
    "beta[24]=1\n",
    "x=np.linalg.solve(alpha,beta)[(np.arange(25)%5==np.arange(25)//5)]\n",
    "print(\"Solution des équations de trafic, méthode algébrique\\n\")\n",
    "print(1-x)\n",
    "\n",
    "print(\"--------------------\\n Simulation avec 100 vélos répartis au hasard\")\n",
    "import time\n",
    "Einitial=np.zeros(25)\n",
    "for i in np.arange(91):\n",
    "    Einitial[np.random.randint(25)]+=1\n",
    "a=time.time()\n",
    "simulation(Einitial,1000,9000.)\n",
    "#print(time.time()-a)\n",
    "\n"
   ]
  },
  {
   "cell_type": "code",
   "execution_count": 6,
   "metadata": {},
   "outputs": [
    {
     "data": {
      "text/plain": [
       "array([0.16782957, 0.16114533, 0.14198607, 0.16148385, 0.14988411])"
      ]
     },
     "execution_count": 6,
     "metadata": {},
     "output_type": "execute_result"
    }
   ],
   "source": [
    "x"
   ]
  },
  {
   "cell_type": "code",
   "execution_count": 7,
   "metadata": {},
   "outputs": [
    {
     "data": {
      "text/plain": [
       "array([0.83217043, 0.83885467, 0.85801393, 0.83851615, 0.85011589])"
      ]
     },
     "execution_count": 7,
     "metadata": {},
     "output_type": "execute_result"
    }
   ],
   "source": [
    "1-x"
   ]
  },
  {
   "cell_type": "code",
   "execution_count": 10,
   "metadata": {},
   "outputs": [
    {
     "data": {
      "text/plain": [
       "array([[0.834, 0.84 , 0.859, 0.84 , 0.851]])"
      ]
     },
     "execution_count": 10,
     "metadata": {},
     "output_type": "execute_result"
    }
   ],
   "source": [
    "y=np.array([[0.166,0.160, 0.141 ,0.160 ,0.149]])\n",
    "1-y"
   ]
  },
  {
   "cell_type": "code",
   "execution_count": null,
   "metadata": {},
   "outputs": [],
   "source": []
  }
 ],
 "metadata": {
  "kernelspec": {
   "display_name": "Python 3",
   "language": "python",
   "name": "python3"
  },
  "language_info": {
   "codemirror_mode": {
    "name": "ipython",
    "version": 3
   },
   "file_extension": ".py",
   "mimetype": "text/x-python",
   "name": "python",
   "nbconvert_exporter": "python",
   "pygments_lexer": "ipython3",
   "version": "3.6.4"
  }
 },
 "nbformat": 4,
 "nbformat_minor": 2
}
