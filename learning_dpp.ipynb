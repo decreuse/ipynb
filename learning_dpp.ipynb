{
 "cells": [
  {
   "cell_type": "code",
   "execution_count": 36,
   "metadata": {
    "collapsed": true
   },
   "outputs": [],
   "source": [
    "from numpy import *\n",
    "import numpy as np\n",
    "from scipy import *\n",
    "import scipy as scipy\n",
    "from numba import jit\n",
    "\n",
    "@jit\n",
    "def s(N):\n",
    "    i=0\n",
    "    cumul=np.zeros(N)\n",
    "    while (np.sum(cumul>0)!= N):\n",
    "        i+=1\n",
    "        cumul+= (np.random.rand(N)>0.5)\n",
    "    return i\n",
    "\n",
    "@jit\n",
    "def simul(p):\n",
    "    p=np.cumsum(p)/np.sum(p)\n",
    "    t=0\n",
    "    u=np.random.rand()\n",
    "    while(u>p[t]):\n",
    "        t+=1\n",
    "    return t\n",
    "\n",
    "@jit\n",
    "def gs(N,x,i,y):\n",
    "    for j in np.arange(N):\n",
    "        v=x[:,j]-x[i,j]\n",
    "        vv=np.linalg.norm(v)\n",
    "        x[:,j]=v/vv\n",
    "    return x\n",
    "\n",
    "@jit\n",
    "def dpp(x,N):\n",
    "    y=[]\n",
    "    e=[]\n",
    "    for j in np.arange(N):\n",
    "        p=np.sum(x*x,axis=1)\n",
    "        for r in e:\n",
    "            p -= np.sum((r*x),axis=1)**2\n",
    "        i=simul(p)\n",
    "        y += [bin(i)]\n",
    "        c=np.zeros(N)\n",
    "        for r in e:\n",
    "            c+= (r*x[i,:])*r\n",
    "        w=x[i,:]-c\n",
    "        e+=[w/np.linalg.norm(w)]\n",
    "    return y\n",
    "\n",
    "def ortho(N):\n",
    "    return ortho_group.rvs(N)"
   ]
  },
  {
   "cell_type": "code",
   "execution_count": 41,
   "metadata": {},
   "outputs": [],
   "source": [
    "N=5\n",
    "d=4096*16\n",
    "#x=ortho(d)\n",
    "x=scipy.linalg.orth(np.random.rand(d,N))\n",
    "\n"
   ]
  },
  {
   "cell_type": "code",
   "execution_count": 42,
   "metadata": {},
   "outputs": [
    {
     "data": {
      "text/plain": [
       "['0b1000000000101100',\n",
       " '0b11010000000100',\n",
       " '0b1010010000111111',\n",
       " '0b1010100110100100',\n",
       " '0b1010000000100011']"
      ]
     },
     "execution_count": 42,
     "metadata": {},
     "output_type": "execute_result"
    }
   ],
   "source": [
    "dpp(x,N)"
   ]
  },
  {
   "cell_type": "code",
   "execution_count": 43,
   "metadata": {},
   "outputs": [
    {
     "data": {
      "text/plain": [
       "array([[ True, False,  True, False,  True, False,  True,  True, False,\n",
       "        False,  True,  True,  True,  True,  True,  True],\n",
       "       [False, False,  True,  True,  True, False, False,  True,  True,\n",
       "         True,  True,  True, False, False, False, False],\n",
       "       [ True,  True, False,  True,  True, False,  True, False, False,\n",
       "         True,  True, False,  True, False, False, False],\n",
       "       [False, False,  True, False, False, False,  True, False,  True,\n",
       "         True,  True,  True,  True,  True, False, False]], dtype=bool)"
      ]
     },
     "execution_count": 43,
     "metadata": {},
     "output_type": "execute_result"
    }
   ],
   "source": [
    "(np.random.rand(4,16)>0.5)"
   ]
  },
  {
   "cell_type": "code",
   "execution_count": 113,
   "metadata": {},
   "outputs": [
    {
     "data": {
      "text/plain": [
       "0.0"
      ]
     },
     "execution_count": 113,
     "metadata": {},
     "output_type": "execute_result"
    }
   ],
   "source": [
    "sum(x[1,:]*x[1,:])-sum((x[1,:]*x[1,:]))**2/np.linalg.norm(x[1,:])**2"
   ]
  },
  {
   "cell_type": "code",
   "execution_count": 27,
   "metadata": {},
   "outputs": [
    {
     "data": {
      "text/plain": [
       "True"
      ]
     },
     "execution_count": 27,
     "metadata": {},
     "output_type": "execute_result"
    }
   ],
   "source": [
    "bool(963)"
   ]
  },
  {
   "cell_type": "code",
   "execution_count": 114,
   "metadata": {},
   "outputs": [
    {
     "name": "stdout",
     "output_type": "stream",
     "text": [
      "[  4.24146320e-01   2.22044605e-16   7.07735810e-01   2.23602288e-01\n",
      "   1.50038600e-01   4.15558192e-01   7.47997292e-01   4.64268414e-01\n",
      "   4.20220314e-01   4.46432769e-01]\n"
     ]
    }
   ],
   "source": [
    "p=np.sum(x*x,axis=1)\n",
    "for r in e:\n",
    "    p -= np.sum((r*x),axis=1)**2\n",
    "print(p)"
   ]
  },
  {
   "cell_type": "code",
   "execution_count": null,
   "metadata": {
    "collapsed": true
   },
   "outputs": [],
   "source": []
  }
 ],
 "metadata": {
  "kernelspec": {
   "display_name": "Python 3",
   "language": "python",
   "name": "python3"
  },
  "language_info": {
   "codemirror_mode": {
    "name": "ipython",
    "version": 3
   },
   "file_extension": ".py",
   "mimetype": "text/x-python",
   "name": "python",
   "nbconvert_exporter": "python",
   "pygments_lexer": "ipython3",
   "version": "3.6.3"
  }
 },
 "nbformat": 4,
 "nbformat_minor": 2
}
