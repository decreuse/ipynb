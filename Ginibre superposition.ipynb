{
 "cells": [
  {
   "cell_type": "markdown",
   "metadata": {},
   "source": [
    "# Superposition de $\\beta$-Ginibre\n",
    "\n",
    "On superpose  \n",
    "- 2 (1,0.75) Ginibre\n",
    "- puis de 4 (1,0.75^2) Ginibre\n",
    "- puis de 8 (1,0.75^3) Ginibre\n",
    "- et enfin 16 (1,0.75^4) Ginibre\n",
    "\n",
    "tous simulés avec 400 points au départ (méthode des valeurs propres des matrices gaussiennes)"
   ]
  },
  {
   "cell_type": "code",
   "execution_count": 14,
   "metadata": {},
   "outputs": [
    {
     "data": {
      "image/png": "[encoded data removed]",
      "text/plain": [
       "<matplotlib.figure.Figure at 0x1a1e5e0748>"
      ]
     },
     "metadata": {},
     "output_type": "display_data"
    }
   ],
   "source": [
    "%matplotlib inline\n",
    "from numpy import *\n",
    "import numpy as np\n",
    "import seaborn as sns\n",
    "import matplotlib.pyplot as plt\n",
    "\n",
    "def ginibre(n):\n",
    "    r=np.random.randn(n,n)+1j*np.random.randn(n,n)\n",
    "    z=np.linalg.eigvals(r)\n",
    "    return real(z),imag(z)\n",
    "\n",
    "def thinning(long,b):\n",
    "    r=np.random.rand(long)\n",
    "    return np.nonzero(r<=b)\n",
    "\n",
    "def superposition(long,K,beta):\n",
    "    x=[]\n",
    "    y=[]\n",
    "    f, axarr = plt.subplots(2, 2)\n",
    "    for i in np.arange(2**K):\n",
    "        a,b=ginibre(long)\n",
    "        x=x+[a]\n",
    "        y=y+[b]\n",
    "    for i in 1+np.arange(K):        \n",
    "        for j in np.arange(2**K):\n",
    "            p=thinning(x[j].size,beta)\n",
    "            x[j]=x[j][p]*np.sqrt(beta)\n",
    "            y[j]=y[j][p]*np.sqrt(beta)\n",
    "        for j in np.arange(2**i):\n",
    "            axarr[(i-1)//2,(i-1)%2].axis([-5,5,-5,5])\n",
    "            axarr[(i-1)//2,(i-1)%2].plot(x[j],y[j],'o',ms=2,color='blue')\n",
    "        axarr[(i-1)//2,(i-1)%2].set_title(str(2**i))\n",
    "    plt.setp([a.get_xticklabels() for a in axarr[0, :]], visible=False)\n",
    "    plt.setp([a.get_yticklabels() for a in axarr[:, 1]], visible=False) \n",
    "    \n",
    "    #plt.show()\n",
    "    plt.savefig('superposition.pdf')\n",
    "    \n",
    "superposition(800,4,0.5)\n",
    "\n",
    "\n",
    "#plt.tight_layout()\n",
    "#plt.show()"
   ]
  },
  {
   "cell_type": "code",
   "execution_count": null,
   "metadata": {
    "collapsed": true
   },
   "outputs": [],
   "source": []
  },
  {
   "cell_type": "code",
   "execution_count": null,
   "metadata": {
    "collapsed": true
   },
   "outputs": [],
   "source": []
  }
 ],
 "metadata": {
  "kernelspec": {
   "display_name": "Python 3",
   "language": "python",
   "name": "python3"
  },
  "language_info": {
   "codemirror_mode": {
    "name": "ipython",
    "version": 3
   },
   "file_extension": ".py",
   "mimetype": "text/x-python",
   "name": "python",
   "nbconvert_exporter": "python",
   "pygments_lexer": "ipython3",
   "version": "3.6.1"
  }
 },
 "nbformat": 4,
 "nbformat_minor": 2
}
