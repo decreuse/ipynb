{
 "cells": [
  {
   "cell_type": "code",
   "execution_count": 4,
   "metadata": {},
   "outputs": [
    {
     "data": {
      "image/png": "[encoded data removed]",
      "text/plain": [
       "<matplotlib.figure.Figure at 0x10cf42c50>"
      ]
     },
     "metadata": {},
     "output_type": "display_data"
    }
   ],
   "source": [
    "%matplotlib inline\n",
    "import numpy as np\n",
    "import matplotlib.pyplot as plt\n",
    "import matplotlib.animation as animation\n",
    "\n",
    "fig, ax = plt.subplots()\n",
    "line, = ax.plot(np.random.rand(10))\n",
    "ax.set_ylim(0, 1)\n",
    "\n",
    "\n",
    "def update(data):\n",
    "    line.set_ydata(data)\n",
    "    return line,\n",
    "\n",
    "\n",
    "def data_gen():\n",
    "    while True:\n",
    "        yield np.random.rand(10)\n",
    "\n",
    "ani = animation.FuncAnimation(fig, update, data_gen,interval=1000)\n",
    "plt.show()"
   ]
  },
  {
   "cell_type": "code",
   "execution_count": 52,
   "metadata": {
    "collapsed": true
   },
   "outputs": [],
   "source": [
    "import numpy as np\n",
    "import matplotlib.pyplot as plt\n",
    "import matplotlib.animation as animation\n",
    "\n",
    "def glauber(l,N0,horizon,windowSize):\n",
    "    tempo=[]\n",
    "    glaub=[]\n",
    "    for i in np.arange(N0):\n",
    "        z=np.zeros(4)\n",
    "        z[2]=10*np.random.rand()\n",
    "        z[3]=10*np.random.rand()\n",
    "        tempo += [z]\n",
    "    state=N0*1.\n",
    "    timer=0\n",
    "    while(timer <= horizon):\n",
    "        time_lapse=np.random.exponential(1./(l+state))\n",
    "        timer+= time_lapse\n",
    "        if np.random.rand()<l/(l+state):\n",
    "            # Arrivee\n",
    "            z=np.zeros(4)\n",
    "            z[0]=timer\n",
    "            z[2]=windowSize*np.random.rand()\n",
    "            z[3]=windowSize*np.random.rand()\n",
    "            tempo+= [z]\n",
    "            state+=1\n",
    "        else:\n",
    "            # Death\n",
    "            death=np.random.randint(0,len(tempo))\n",
    "            tempo[death][1]=timer\n",
    "            glaub+= [tempo[death]]\n",
    "            del tempo[death]\n",
    "            state-=1\n",
    "            \n",
    "    return glaub\n",
    "\n",
    "glaubb=glauber(3.,8,20.,10.)\n",
    "\n",
    "def animate(temps,glauber):\n",
    "    activeX=[]\n",
    "    activeY=[]\n",
    "    activeX_orig=[]\n",
    "    activeY_orig=[]\n",
    "    for z in glauber:\n",
    "        if (temps<=z[1]):\n",
    "            if (z[0]==0.):\n",
    "                activeX_orig += [z[2]]\n",
    "                activeY_orig += [z[3]]\n",
    "            else:\n",
    "                if (z[0]<= temps):\n",
    "                    activeX += [z[2]]\n",
    "                    activeY += [z[3]]\n",
    "    return activeX_orig,activeY_orig,activeX,activeY\n",
    "    "
   ]
  },
  {
   "cell_type": "code",
   "execution_count": 53,
   "metadata": {},
   "outputs": [
    {
     "name": "stderr",
     "output_type": "stream",
     "text": [
      "/usr/local/anaconda3/lib/python3.6/site-packages/matplotlib/pyplot.py:524: RuntimeWarning: More than 20 figures have been opened. Figures created through the pyplot interface (`matplotlib.pyplot.figure`) are retained until explicitly closed and may consume too much memory. (To control this warning, see the rcParam `figure.max_open_warning`).\n",
      "  max_open_warning, RuntimeWarning)\n"
     ]
    }
   ],
   "source": [
    "for i in np.arange(0,10,0.1):\n",
    "    fig, ax = plt.subplots()\n",
    "    ax.axis([0,10,0,10])\n",
    "    a,b,c,d=animate(i,glaubb)\n",
    "    ax.plot(a,b,'o')\n",
    "    ax.plot(c,d,'o')\n",
    "    nom='glauber-'+str(int(10*i))+'.pdf'\n",
    "    plt.savefig(nom)\n",
    "    plt.clf()\n",
    "    #plt.show()\n",
    "    "
   ]
  },
  {
   "cell_type": "code",
   "execution_count": 45,
   "metadata": {},
   "outputs": [
    {
     "data": {
      "text/plain": [
       "86"
      ]
     },
     "execution_count": 45,
     "metadata": {},
     "output_type": "execute_result"
    }
   ],
   "source": [
    "int(86.0)"
   ]
  },
  {
   "cell_type": "code",
   "execution_count": 29,
   "metadata": {},
   "outputs": [
    {
     "data": {
      "image/png": "[encoded data removed]",
      "text/plain": [
       "<matplotlib.figure.Figure at 0x114f63940>"
      ]
     },
     "metadata": {},
     "output_type": "display_data"
    }
   ],
   "source": [
    "plt.plot(a,b,'o')\n",
    "plt.show()"
   ]
  },
  {
   "cell_type": "code",
   "execution_count": 16,
   "metadata": {},
   "outputs": [
    {
     "data": {
      "text/plain": [
       "[0.16014527988381655, 1.7745956176527522]"
      ]
     },
     "execution_count": 16,
     "metadata": {},
     "output_type": "execute_result"
    }
   ],
   "source": [
    "d"
   ]
  },
  {
   "cell_type": "code",
   "execution_count": 37,
   "metadata": {},
   "outputs": [
    {
     "data": {
      "image/png": "[encoded data removed]",
      "text/plain": [
       "<matplotlib.figure.Figure at 0x102fb92b0>"
      ]
     },
     "metadata": {},
     "output_type": "display_data"
    }
   ],
   "source": [
    "%matplotlib inline\n",
    "import numpy as np\n",
    "import matplotlib.pyplot as plt\n",
    "import matplotlib.animation as animation\n",
    "\n",
    "\n",
    "def update_line(num, data, line):\n",
    "    line.set_data(data[..., :num])\n",
    "    return line,\n",
    "\n",
    "fig1 = plt.figure()\n",
    "\n",
    "data = np.random.rand(2, 25)\n",
    "l, = plt.plot([], [], 'r-')\n",
    "plt.xlim(0, 1)\n",
    "plt.ylim(0, 1)\n",
    "plt.xlabel('x')\n",
    "plt.title('test')\n",
    "line_ani = animation.FuncAnimation(fig1, update_line, 25, fargs=(data, l),\n",
    "                                   interval=50, blit=False)\n"
   ]
  },
  {
   "cell_type": "code",
   "execution_count": 39,
   "metadata": {},
   "outputs": [
    {
     "data": {
      "text/plain": [
       "184.0"
      ]
     },
     "execution_count": 39,
     "metadata": {},
     "output_type": "execute_result"
    }
   ],
   "source": [
    "np.ceil(184.0)"
   ]
  },
  {
   "cell_type": "code",
   "execution_count": null,
   "metadata": {
    "collapsed": true
   },
   "outputs": [],
   "source": []
  }
 ],
 "metadata": {
  "kernelspec": {
   "display_name": "Python 3",
   "language": "python",
   "name": "python3"
  },
  "language_info": {
   "codemirror_mode": {
    "name": "ipython",
    "version": 3
   },
   "file_extension": ".py",
   "mimetype": "text/x-python",
   "name": "python",
   "nbconvert_exporter": "python",
   "pygments_lexer": "ipython3",
   "version": "3.6.1"
  }
 },
 "nbformat": 4,
 "nbformat_minor": 2
}
